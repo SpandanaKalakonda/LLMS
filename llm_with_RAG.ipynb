{
  "nbformat": 4,
  "nbformat_minor": 0,
  "metadata": {
    "colab": {
      "provenance": [],
      "gpuType": "T4",
      "authorship_tag": "ABX9TyMxvVuhCG2RinGiXKpJv8S5",
      "include_colab_link": true
    },
    "kernelspec": {
      "name": "python3",
      "display_name": "Python 3"
    },
    "language_info": {
      "name": "python"
    },
    "accelerator": "GPU"
  },
  "cells": [
    {
      "cell_type": "markdown",
      "metadata": {
        "id": "view-in-github",
        "colab_type": "text"
      },
      "source": [
        "<a href=\"https://colab.research.google.com/github/SpandanaKalakonda/LLMS/blob/main/llm_with_RAG.ipynb\" target=\"_parent\"><img src=\"https://colab.research.google.com/assets/colab-badge.svg\" alt=\"Open In Colab\"/></a>"
      ]
    },
    {
      "cell_type": "code",
      "execution_count": 45,
      "metadata": {
        "id": "8ytyFL7djB4z"
      },
      "outputs": [],
      "source": [
        "!pip install langchain langgraph cassio langchain_community langchain_groq tiktoken langchainhub langchain_huggingface -q"
      ]
    },
    {
      "cell_type": "code",
      "source": [
        "!pip install wikipedia -q"
      ],
      "metadata": {
        "id": "MxH_8yr3r63j"
      },
      "execution_count": 81,
      "outputs": []
    },
    {
      "cell_type": "code",
      "source": [
        "from google.colab import userdata\n",
        "ASTRA_DB_TOKEN = userdata.get('ASTRA_DB_TOKEN')\n",
        "ASTRA_DB_ID = userdata.get('ASTRA_DB_ID')"
      ],
      "metadata": {
        "id": "I1kM73oLkJ2Y"
      },
      "execution_count": 46,
      "outputs": []
    },
    {
      "cell_type": "code",
      "source": [
        "#Connecting to ASTRADB\n",
        "import cassio\n",
        "cassio.init(token=ASTRA_DB_TOKEN,database_id=ASTRA_DB_ID )"
      ],
      "metadata": {
        "id": "Wva8lvUYjOe4"
      },
      "execution_count": 47,
      "outputs": []
    },
    {
      "cell_type": "code",
      "source": [
        "from langchain.text_splitter import RecursiveCharacterTextSplitter\n",
        "from langchain_community.document_loaders import WebBaseLoader\n",
        "# Docs to index\n",
        "urls = [\n",
        "    \"https://www.geeksforgeeks.org/machine-learning-algorithms/\"\n",
        "]\n",
        "\n",
        "# Load\n",
        "docs = [WebBaseLoader(url).load() for url in urls]\n",
        "doc_list = [doc for sublist in docs for doc in sublist]\n",
        "#Spilt\n",
        "text_spiltter = RecursiveCharacterTextSplitter.from_tiktoken_encoder(chunk_size=200, chunk_overlap=0)\n",
        "docs_spilt = text_spiltter.split_documents(doc_list)"
      ],
      "metadata": {
        "id": "7pYk-wGvp8Jq"
      },
      "execution_count": 48,
      "outputs": []
    },
    {
      "cell_type": "code",
      "source": [
        "from langchain_huggingface import HuggingFaceEmbeddings\n",
        "embeddings=HuggingFaceEmbeddings(model_name=\"all-MiniLM-L6-v2\")"
      ],
      "metadata": {
        "colab": {
          "base_uri": "https://localhost:8080/"
        },
        "id": "AO6-KZUdjMTJ",
        "outputId": "bb5a8290-fa2f-40f2-fb8d-b05f93175ef8"
      },
      "execution_count": 50,
      "outputs": [
        {
          "output_type": "stream",
          "name": "stderr",
          "text": [
            "/usr/local/lib/python3.10/dist-packages/transformers/tokenization_utils_base.py:1601: FutureWarning: `clean_up_tokenization_spaces` was not set. It will be set to `True` by default. This behavior will be depracted in transformers v4.45, and will be then set to `False` by default. For more details check this issue: https://github.com/huggingface/transformers/issues/31884\n",
            "  warnings.warn(\n"
          ]
        }
      ]
    },
    {
      "cell_type": "code",
      "source": [
        "from langchain.vectorstores.cassandra import Cassandra\n",
        "astra_vector_store = Cassandra(\n",
        "    embedding=embeddings,\n",
        "    table_name=\"ml_algorithms_info\",\n",
        "    session=None,\n",
        "    keyspace=None\n",
        ")"
      ],
      "metadata": {
        "id": "fEjblxTQru3a"
      },
      "execution_count": 51,
      "outputs": []
    },
    {
      "cell_type": "code",
      "source": [
        "from langchain.indexes.vectorstore import VectorStoreIndexWrapper\n",
        "astra_vector_store.add_documents(docs_spilt)\n",
        "print(\"Inserted %i records.\" % len(docs_spilt))\n",
        "astra_vector_index = VectorStoreIndexWrapper(vectorstore=astra_vector_store)"
      ],
      "metadata": {
        "colab": {
          "base_uri": "https://localhost:8080/"
        },
        "id": "zTtfwKh-sUel",
        "outputId": "b74e587e-ea28-4483-eb42-0e3ed5641a6c"
      },
      "execution_count": 52,
      "outputs": [
        {
          "output_type": "stream",
          "name": "stdout",
          "text": [
            "Inserted 67 records.\n"
          ]
        }
      ]
    },
    {
      "cell_type": "code",
      "source": [
        "retriever = astra_vector_store.as_retriever()\n",
        "retriever.invoke(\"What is Linear Regression\", ConsistencyLevel='LOCAL_ONE')"
      ],
      "metadata": {
        "colab": {
          "base_uri": "https://localhost:8080/"
        },
        "id": "2joZ7t0ssuQB",
        "outputId": "f6df008c-56bd-4fec-839c-16233cdab6f7",
        "collapsed": true
      },
      "execution_count": 67,
      "outputs": [
        {
          "output_type": "stream",
          "name": "stderr",
          "text": [
            "WARNING:cassandra.protocol:Server warning: Top-K queries can only be run with consistency level ONE / LOCAL_ONE / NODE_LOCAL. Consistency level LOCAL_QUORUM was requested. Downgrading the consistency level to LOCAL_ONE.\n"
          ]
        },
        {
          "output_type": "execute_result",
          "data": {
            "text/plain": [
              "[Document(metadata={'description': 'Explore key ML algorithms: Linear & Logistic Regression, Decision Trees, SVM. Dive into types of Machine Learning Algorithms in this guide.', 'language': 'en-US', 'source': 'https://www.geeksforgeeks.org/machine-learning-algorithms/', 'title': 'Machine Learning Algorithms'}, page_content='B. Regression\\n1. Linear Regression\\n\\nDescription: Linear regression models the relationship between dependent and independent variables using a linear approach.\\nKey Points:\\n\\nSimple and easy to implement.\\nAssumes a linear relationship between the variables.\\nSensitive to outliers.\\n\\n\\nApplications: House price prediction, sales forecasting, risk management.\\n\\n2. Ridge Regression\\n\\nDescription: Ridge regression adds L2 regularization to linear regression to handle multicollinearity and prevent overfitting.\\nKey Points:\\n\\nShrinks coefficients to reduce overfitting.\\nHandles multicollinearity well.\\nRequires tuning of the regularization parameter.\\n\\n\\nApplications: Economic forecasting, portfolio optimization, marketing analysis.\\n\\n3. Lasso Regression\\n\\nDescription: Lasso regression adds L1 regularization to linear regression to perform feature selection by shrinking some coefficients to zero.\\nKey Points:'),\n",
              " Document(metadata={'description': 'Explore key ML algorithms: Linear & Logistic Regression, Decision Trees, SVM. Dive into types of Machine Learning Algorithms in this guide.', 'language': 'en-US', 'source': 'https://www.geeksforgeeks.org/machine-learning-algorithms/', 'title': 'Machine Learning Algorithms'}, page_content='B. Regression\\n1. Linear Regression\\n\\nDescription: Linear regression models the relationship between dependent and independent variables using a linear approach.\\nKey Points:\\n\\nSimple and easy to implement.\\nAssumes a linear relationship between the variables.\\nSensitive to outliers.\\n\\n\\nApplications: House price prediction, sales forecasting, risk management.\\n\\n2. Ridge Regression\\n\\nDescription: Ridge regression adds L2 regularization to linear regression to handle multicollinearity and prevent overfitting.\\nKey Points:\\n\\nShrinks coefficients to reduce overfitting.\\nHandles multicollinearity well.\\nRequires tuning of the regularization parameter.\\n\\n\\nApplications: Economic forecasting, portfolio optimization, marketing analysis.\\n\\n3. Lasso Regression\\n\\nDescription: Lasso regression adds L1 regularization to linear regression to perform feature selection by shrinking some coefficients to zero.\\nKey Points:'),\n",
              " Document(metadata={'description': 'Explore key ML algorithms: Linear & Logistic Regression, Decision Trees, SVM. Dive into types of Machine Learning Algorithms in this guide.', 'language': 'en-US', 'source': 'https://www.geeksforgeeks.org/machine-learning-algorithms/', 'title': 'Machine Learning Algorithms'}, page_content='B. Regression\\n1. Linear Regression\\n\\nDescription: Linear regression models the relationship between dependent and independent variables using a linear approach.\\nKey Points:\\n\\nSimple and easy to implement.\\nAssumes a linear relationship between the variables.\\nSensitive to outliers.\\n\\n\\nApplications: House price prediction, sales forecasting, risk management.\\n\\n2. Ridge Regression\\n\\nDescription: Ridge regression adds L2 regularization to linear regression to handle multicollinearity and prevent overfitting.\\nKey Points:\\n\\nShrinks coefficients to reduce overfitting.\\nHandles multicollinearity well.\\nRequires tuning of the regularization parameter.\\n\\n\\nApplications: Economic forecasting, portfolio optimization, marketing analysis.\\n\\n3. Lasso Regression\\n\\nDescription: Lasso regression adds L1 regularization to linear regression to perform feature selection by shrinking some coefficients to zero.\\nKey Points:'),\n",
              " Document(metadata={'description': 'Explore key ML algorithms: Linear & Logistic Regression, Decision Trees, SVM. Dive into types of Machine Learning Algorithms in this guide.', 'language': 'en-US', 'source': 'https://www.geeksforgeeks.org/machine-learning-algorithms/', 'title': 'Machine Learning Algorithms'}, page_content='——————————————————————————————-\\n1. Supervised Learning Algorithm\\nSupervised learning is a type of machine learning algorithms where we used labeled dataset to train the model or algorithms. The goal of the algorithm is to learn a mapping from the input data to the output labels, allowing it to make predictions or classifications on new, unseen data.\\n\\n\\n\\n\\nSupervised Machine Learning Algorithms\\n\\n\\n\\n\\n\\n\\n\\nLinear Model:\\n\\nRegression\\n\\nOrdinary Least Square Regression\\nSimple Linear Regression\\nMultiple Linear Regression\\nPolynomial Regression\\nOrthogonal Matching Pursuit (OMP)\\nBayesian Regression\\nQuantile Regression\\nIsotonic regression\\nStepwise regression\\nLeast-angle regression (LARS)\\n\\n\\nClassification:\\n\\nLogistic Regression\\n\\nSigmoid & Softmax functions\\n\\n\\n\\n\\nRegularization:')]"
            ]
          },
          "metadata": {},
          "execution_count": 67
        }
      ]
    },
    {
      "cell_type": "code",
      "source": [
        "## langraph application\n",
        "from typing import Literal\n",
        "from langchain_core.prompts import ChatPromptTemplate\n",
        "from langchain_core.pydantic_v1 import BaseModel, Field"
      ],
      "metadata": {
        "id": "gZOnmIX_tqe-"
      },
      "execution_count": 54,
      "outputs": []
    },
    {
      "cell_type": "code",
      "source": [
        "# Data Model\n",
        "class RouteQuery(BaseModel):\n",
        "  datasource: Literal['vectorstore', 'wiki_search'] = Field(\n",
        "      ...,\n",
        "      description=\"When a user gives a question choose to route it to vectorstore OR Wikipedia\"\n",
        "  )"
      ],
      "metadata": {
        "id": "CcgwGcUfu9Hn"
      },
      "execution_count": 68,
      "outputs": []
    },
    {
      "cell_type": "code",
      "source": [
        "from langchain_groq import ChatGroq\n",
        "groq_api_key = userdata.get('GROQ_API_KEY')"
      ],
      "metadata": {
        "id": "ZdquTsYTln88"
      },
      "execution_count": 69,
      "outputs": []
    },
    {
      "cell_type": "code",
      "source": [
        "#Large Larguage Model\n",
        "llm = ChatGroq(groq_api_key=groq_api_key,\n",
        "               model_name='Gemma2-9b-It')"
      ],
      "metadata": {
        "id": "FQLvipDbmAqe"
      },
      "execution_count": 70,
      "outputs": []
    },
    {
      "cell_type": "code",
      "source": [
        "structured_llm_router = llm.with_structured_output(RouteQuery)"
      ],
      "metadata": {
        "id": "3kCCpmAmmn6x"
      },
      "execution_count": 71,
      "outputs": []
    },
    {
      "cell_type": "code",
      "source": [
        "#Prompt\n",
        "system = \"\"\"You are an expert at routing a user question to a vectorstore or wikipedia.\n",
        "The vectorstore contains documents related to agents, prompt engineering, and adversarial attacks.\n",
        "Use the vectorstore for questions on these topics. Otherwise, use wiki-search.\"\"\"\n",
        "\n",
        "route_prompt = ChatPromptTemplate.from_messages([\n",
        "    (\"system\", system),\n",
        "    (\"human\", \"{question}\"),\n",
        "])\n"
      ],
      "metadata": {
        "id": "eQnRFgABm4qa"
      },
      "execution_count": 72,
      "outputs": []
    },
    {
      "cell_type": "code",
      "source": [
        "question_router = route_prompt | structured_llm_router"
      ],
      "metadata": {
        "id": "jhT-y7FsrAFM"
      },
      "execution_count": 73,
      "outputs": []
    },
    {
      "cell_type": "code",
      "source": [
        "print(question_router.invoke({\"question\": \"Machine learning\"}))"
      ],
      "metadata": {
        "colab": {
          "base_uri": "https://localhost:8080/"
        },
        "id": "pEduLLMioocT",
        "outputId": "519cc332-b716-4aa6-b791-a2a49f880593"
      },
      "execution_count": 74,
      "outputs": [
        {
          "output_type": "stream",
          "name": "stdout",
          "text": [
            "datasource='vectorstore'\n"
          ]
        }
      ]
    },
    {
      "cell_type": "code",
      "source": [
        "print(question_router.invoke({\"question\": \"Logistic Regression\"}))"
      ],
      "metadata": {
        "colab": {
          "base_uri": "https://localhost:8080/"
        },
        "id": "HZzcaZoinfGK",
        "outputId": "1e0236e5-b93b-4dbc-cfbc-19ca9157bf71"
      },
      "execution_count": 76,
      "outputs": [
        {
          "output_type": "stream",
          "name": "stdout",
          "text": [
            "datasource='vectorstore'\n"
          ]
        }
      ]
    },
    {
      "cell_type": "code",
      "source": [
        "print(question_router.invoke({\"question\": \"Linear algebra\"}))"
      ],
      "metadata": {
        "colab": {
          "base_uri": "https://localhost:8080/"
        },
        "id": "gKkZghIjnvNm",
        "outputId": "d42b3c3a-ccf6-4dae-b29b-a42ab50d9768"
      },
      "execution_count": 78,
      "outputs": [
        {
          "output_type": "stream",
          "name": "stdout",
          "text": [
            "datasource='wiki_search'\n"
          ]
        }
      ]
    },
    {
      "cell_type": "code",
      "source": [
        "### Working With Tools\n",
        "from langchain_community.utilities import WikipediaAPIWrapper\n",
        "from langchain_community.tools import WikipediaQueryRun\n",
        "\n",
        "## Wikipedia Tools\n",
        "\n",
        "wiki_wrapper=WikipediaAPIWrapper(top_k_results=1,doc_content_chars_max=200)\n",
        "wiki=WikipediaQueryRun(api_wrapper=wiki_wrapper)"
      ],
      "metadata": {
        "id": "7wePoRqrrvTV"
      },
      "execution_count": 85,
      "outputs": []
    },
    {
      "cell_type": "code",
      "source": [
        "#AI Agents applicatin using langgraph\n",
        "\n",
        "from typing import List\n",
        "from typing_extensions import TypedDict\n",
        "\n",
        "class GraphState(TypedDict):\n",
        "    '''\n",
        "    Represents the state of the graph.\n",
        "\n",
        "    Attributes:\n",
        "        question: question\n",
        "        generation: LLM generated response\n",
        "        documents: List of documents\n",
        "    '''\n",
        "    question: str\n",
        "    generation: str\n",
        "    documents: List[str]"
      ],
      "metadata": {
        "id": "u92i-PBlsx7Y"
      },
      "execution_count": 101,
      "outputs": []
    },
    {
      "cell_type": "code",
      "source": [
        "from langchain.schema import Document\n",
        "\n",
        "def retrieve(state):\n",
        "  \"\"\"\n",
        "  Retrieve documents from the vectorstore based on the question\n",
        "\n",
        "  Args:\n",
        "    state(dict): the current Graph State\n",
        "\n",
        "  Returns:\n",
        "    State(dict): New key added to state, documents that contains retrieved documents\n",
        "  \"\"\"\n",
        "  print(\"---Retreive---\")\n",
        "  question=state['question']\n",
        "\n",
        "  #Retrival\n",
        "  documents=retriever.invoke(question)\n",
        "\n",
        "  return {\"documents\":documents,\"question\":questions}"
      ],
      "metadata": {
        "id": "OWCGq1zotuJn"
      },
      "execution_count": 172,
      "outputs": []
    },
    {
      "cell_type": "code",
      "source": [
        "def wiki_search(state):\n",
        "    \"\"\"\n",
        "    wiki search based on the re-phrased question.\n",
        "\n",
        "    Args:\n",
        "        state (dict): The current graph state\n",
        "\n",
        "    Returns:\n",
        "        state (dict): Updates documents key with appended web results\n",
        "    \"\"\"\n",
        "\n",
        "    print(\"---wikipedia---\")\n",
        "    question = state[\"question\"]\n",
        "    print(question)\n",
        "\n",
        "    # Wiki search\n",
        "    docs = wiki.invoke({\"query\": question})\n",
        "    wiki_results = docs\n",
        "    wiki_results = Document(page_content=wiki_results)\n",
        "\n",
        "    return {\"documents\": wiki_results, \"question\": question}"
      ],
      "metadata": {
        "id": "o4OFnbtiur-W"
      },
      "execution_count": 116,
      "outputs": []
    },
    {
      "cell_type": "code",
      "source": [
        "#Edges\n",
        "def route_question(state):\n",
        "    \"\"\"\n",
        "    Route question to wiki search or RAG.\n",
        "\n",
        "    Args:\n",
        "        state (dict): The current graph state\n",
        "\n",
        "    Returns:\n",
        "        str: Next node to call\n",
        "    \"\"\"\n",
        "\n",
        "    print(\"---ROUTE QUESTION---\")\n",
        "    question = state[\"question\"]\n",
        "    source = question_router.invoke({\"question\": question})\n",
        "    if source.datasource == \"wiki_search\":\n",
        "        print(\"---ROUTE QUESTION TO Wiki SEARCH---\")\n",
        "        return \"wiki_search\"\n",
        "    elif source.datasource == \"vectorstore\":\n",
        "        print(\"---ROUTE QUESTION TO RAG---\")\n",
        "        return \"vectorstore\""
      ],
      "metadata": {
        "id": "V_gsgy6iwAGP"
      },
      "execution_count": 117,
      "outputs": []
    },
    {
      "cell_type": "code",
      "source": [
        "from langgraph.graph import START,END,StateGraph\n",
        "\n",
        "workflow = StateGraph(GraphState)\n",
        "# Define the nodes\n",
        "workflow.add_node(\"wiki_search\", wiki_search)  # wikipedia search\n",
        "workflow.add_node(\"retrieve\", retrieve)  # retrieve\n",
        "\n",
        "# Build graph\n",
        "workflow.add_conditional_edges(\n",
        "    START,\n",
        "    route_question,\n",
        "    {\n",
        "        \"wiki_search\": \"wiki_search\",\n",
        "        \"vectorstore\": \"retrieve\",\n",
        "    },\n",
        ")\n",
        "workflow.add_edge( \"retrieve\", END)\n",
        "workflow.add_edge( \"wiki_search\", END)\n",
        "# Compile\n",
        "app = workflow.compile()"
      ],
      "metadata": {
        "id": "7NgXgfcfvUxh"
      },
      "execution_count": 118,
      "outputs": []
    },
    {
      "cell_type": "code",
      "source": [
        "from IPython.display import Image, display\n",
        "\n",
        "try:\n",
        "    display(Image(app.get_graph().draw_mermaid_png()))\n",
        "except Exception:\n",
        "    pass"
      ],
      "metadata": {
        "colab": {
          "base_uri": "https://localhost:8080/",
          "height": 275
        },
        "id": "eJtUKHBRw1uI",
        "outputId": "1cd187d4-a5dd-49e5-902e-fe353defb608"
      },
      "execution_count": 119,
      "outputs": [
        {
          "output_type": "display_data",
          "data": {
            "image/jpeg": "[encoded data removed]",
            "text/plain": [
              "<IPython.core.display.Image object>"
            ]
          },
          "metadata": {}
        }
      ]
    },
    {
      "cell_type": "code",
      "source": [
        "from pprint import pprint\n",
        "\n",
        "# Run\n",
        "inputs = {\n",
        "    \"question\": \"logistic regression\"\n",
        "}\n",
        "for output in app.stream(inputs):\n",
        "    for key, value in output.items():\n",
        "        # Node\n",
        "        pprint(f\"Node '{key}':\")\n",
        "# Final generation\n",
        "pprint(value['documents'].dict()['page_content'])"
      ],
      "metadata": {
        "colab": {
          "base_uri": "https://localhost:8080/"
        },
        "id": "adfDTxwzxFh8",
        "outputId": "234170fa-bc68-4cef-e1d2-2555e170e9fe"
      },
      "execution_count": 170,
      "outputs": [
        {
          "output_type": "stream",
          "name": "stdout",
          "text": [
            "---ROUTE QUESTION---\n",
            "---ROUTE QUESTION TO Wiki SEARCH---\n",
            "---wikipedia---\n",
            "logistic regression\n",
            "\"Node 'wiki_search':\"\n",
            "('Page: Logistic regression\\n'\n",
            " 'Summary: In statistics, the logistic model (or logit model) is a statistical '\n",
            " 'model that models the log-odds of an event as a linear combination of one or '\n",
            " 'more independent var')\n"
          ]
        }
      ]
    },
    {
      "cell_type": "code",
      "source": [
        "['from pprint import pprint\n",
        "\n",
        "# Run\n",
        "inputs = {\n",
        "    \"question\": \"Machine Learning\"\n",
        "}\n",
        "for output in app.stream(inputs):\n",
        "    for key, value in output.items():\n",
        "        # Node\n",
        "        pprint(f\"Node '{key}':\")\n",
        "\n",
        "print(\"Response:\")\n",
        "# Final generation\n",
        "pprint(value['documents'][0].dict()['metadata']['description'])"
      ],
      "metadata": {
        "colab": {
          "base_uri": "https://localhost:8080/"
        },
        "id": "Hm3v63nGzwL1",
        "outputId": "583f7223-390c-491d-b0bb-1b0c84d8fbad"
      },
      "execution_count": 162,
      "outputs": [
        {
          "output_type": "stream",
          "name": "stdout",
          "text": [
            "---ROUTE QUESTION---\n"
          ]
        },
        {
          "output_type": "stream",
          "name": "stderr",
          "text": [
            "WARNING:cassandra.protocol:Server warning: Top-K queries can only be run with consistency level ONE / LOCAL_ONE / NODE_LOCAL. Consistency level LOCAL_QUORUM was requested. Downgrading the consistency level to LOCAL_ONE.\n"
          ]
        },
        {
          "output_type": "stream",
          "name": "stdout",
          "text": [
            "---ROUTE QUESTION TO RAG---\n",
            "---Retreive---\n",
            "\"Node 'retrieve':\"\n",
            "Response:\n",
            "('Explore key ML algorithms: Linear & Logistic Regression, Decision Trees, '\n",
            " 'SVM. Dive into types of Machine Learning Algorithms in this guide.')\n"
          ]
        }
      ]
    },
    {
      "cell_type": "code",
      "source": [],
      "metadata": {
        "id": "vh8uexRX1EM_"
      },
      "execution_count": null,
      "outputs": []
    }
  ]
}